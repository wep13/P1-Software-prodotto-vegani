{
  "nbformat": 4,
  "nbformat_minor": 0,
  "metadata": {
    "colab": {
      "provenance": [],
      "authorship_tag": "ABX9TyPbIbRuC4sqRZqtHYRgiCz3",
      "include_colab_link": true
    },
    "kernelspec": {
      "name": "python3",
      "display_name": "Python 3"
    },
    "language_info": {
      "name": "python"
    }
  },
  "cells": [
    {
      "cell_type": "markdown",
      "metadata": {
        "id": "view-in-github",
        "colab_type": "text"
      },
      "source": [
        "<a href=\"https://colab.research.google.com/github/wep13/P1-Software-prodotto-vegani/blob/main/python_project_professioAI.ipynb\" target=\"_parent\"><img src=\"https://colab.research.google.com/assets/colab-badge.svg\" alt=\"Open In Colab\"/></a>"
      ]
    },
    {
      "cell_type": "markdown",
      "source": [
        "BioMarket s.a.s ti assume per sviluppare un piccolo software gestionale per la loro nuova bottega in Via Tan 6.\n",
        "\n",
        "Il software deve avere le seguenti funzionalità:\n",
        "\n",
        "1.   Registrare nuovi prodotti, con nome, quantità, prezzo di vendita e prezzo di acquisto.\n",
        "2.   Elencare tutti i prodotti presenti.\n",
        "3.   Registrare le vendite effettuate.\n",
        "4.   Mostrare i profitti lordi e netti.\n",
        "5.   Mostrare un menu di aiuto con tutti i comandi disponibili."
      ],
      "metadata": {
        "id": "5MZ_O85B_HxT"
      }
    },
    {
      "cell_type": "code",
      "source": [
        "#Importing the needed libraries\n",
        "import csv\n",
        "import os"
      ],
      "metadata": {
        "id": "K8pfWizrBUG1"
      },
      "execution_count": null,
      "outputs": []
    },
    {
      "cell_type": "code",
      "source": [
        "def help():\n",
        "\n",
        "  \"\"\"\n",
        "  The function \"help\" allows users to visualize all the possible commands within the program.\n",
        "  \"\"\"\n",
        "\n",
        "  help_txt = 'The available commands are the following: \\n \\\n",
        "  add: adds a product to the inventory \\n \\\n",
        "  inventory_list: shows the list of all the products available in the inventory \\n \\\n",
        "  sell: adds a selling for a product \\n \\\n",
        "  profit: shows the total profits \\n \\\n",
        "  help: shows all the available commands  \\n \\\n",
        "  close: closes the program \\n'\n",
        "\n",
        "  return help_txt"
      ],
      "metadata": {
        "id": "uTRESKFrCBZO"
      },
      "execution_count": null,
      "outputs": []
    },
    {
      "cell_type": "code",
      "source": [
        "def is_positive():\n",
        "\n",
        "  \"\"\"\n",
        "  The function \"is_positive\" checks whether the input from the user is a valid positive number.\n",
        "  \"\"\"\n",
        "\n",
        "  while True:\n",
        "    try:\n",
        "      value = float(input().replace(\",\",\".\"))\n",
        "      if value>=0:\n",
        "        return value\n",
        "      else:\n",
        "        print('The number must be positive!')\n",
        "    except ValueError:\n",
        "      print('Please enter a valid positive number.')"
      ],
      "metadata": {
        "id": "K6tL4W-e2I0t"
      },
      "execution_count": null,
      "outputs": []
    },
    {
      "cell_type": "code",
      "source": [
        "def inventory_list():\n",
        "\n",
        "  \"\"\"\n",
        "  The function \"inventory_list\" allows users to see all the products in the inventory and their informations\n",
        "  \"\"\"\n",
        "\n",
        "  #We read the csv file and print its content\n",
        "  with open(\"inventory.csv\",\"r\") as inventory:\n",
        "    inventory_reader = csv.reader(inventory)\n",
        "    for row in inventory_reader:\n",
        "      print(row)\n"
      ],
      "metadata": {
        "id": "KkjFSkb8NAH9"
      },
      "execution_count": null,
      "outputs": []
    },
    {
      "cell_type": "code",
      "source": [
        "def add():\n",
        "\n",
        "  \"\"\"\n",
        "  The function \"add\" allows users to add products to the inventory.\n",
        "  If the product is already present then the quantity is added to the one already present. In this case there is no option to update the buy and sell price.\n",
        "  If the product is not present then a new line with all the information is added to the inventory.\n",
        "  \"\"\"\n",
        "\n",
        "  print('What product would you like to add')\n",
        "  name = input().lower()\n",
        "  print(f'What quantity of {name} would you like to add?')\n",
        "  quantity = is_positive()\n",
        "\n",
        "  #Read the CSV file\n",
        "  with open(\"inventory.csv\", mode='r') as inventory:\n",
        "    inventory_dict_r = csv.DictReader(inventory)\n",
        "    data = []\n",
        "\n",
        "    #Creating a list of all the row in the inventory\n",
        "    for row in inventory_dict_r:\n",
        "      data.append(row)\n",
        "\n",
        "    #Creating a list of all the item\n",
        "    item_list = []\n",
        "    for element in data:\n",
        "      item_list.append(element['Item'].lower())\n",
        "\n",
        "    #If the item is already present in the inventory we just need to update his quantity\n",
        "    if name in item_list:\n",
        "      index = item_list.index(name)\n",
        "      data[index]['Quantity'] = float(data[index]['Quantity']) + quantity\n",
        "      print(f'Item {name} was already present in the inventory. The new quantity has been added.')\n",
        "\n",
        "    #If the item is not present in the inventory then we need to add a new row\n",
        "    else:\n",
        "      print(f'Insert selling price for {name}')\n",
        "      sell_price = is_positive()\n",
        "      print(f'Insert buying price for {name}')\n",
        "      buy_price = is_positive()\n",
        "\n",
        "      data.append({'Item':name,'Quantity':quantity,'Sell Price':sell_price,'Buy Price':buy_price})\n",
        "      print(f'ADDED {quantity} X {name}')\n",
        "\n",
        "    #Now we need to write all the data stored in the list \"data\" to the file\n",
        "    with open(\"inventory.csv\", mode='w') as inventory:\n",
        "      field_names=['Item','Quantity','Sell Price','Buy Price']\n",
        "      inventory_dict_w = csv.DictWriter(inventory, fieldnames=field_names)\n",
        "      inventory_dict_w.writeheader()\n",
        "\n",
        "      for line in data:\n",
        "        inventory_dict_w.writerow(line)\n"
      ],
      "metadata": {
        "id": "706RK5_7iDeK"
      },
      "execution_count": null,
      "outputs": []
    },
    {
      "cell_type": "code",
      "source": [
        "def sell():\n",
        "\n",
        "  \"\"\"\n",
        "  The function \"sell\" allows users to add products to the inventory.\n",
        "  If the product is not present or if the quantity is not enough then a message error is returned.\n",
        "  The total profit gross and net are then stored in a separate file.\n",
        "  The quantity sold is not subtracted to the ones in the inventory.\n",
        "  \"\"\"\n",
        "\n",
        "  #Read the CSV file\n",
        "  with open('inventory.csv', mode='r') as inventory:\n",
        "    inventory_dict_r = csv.DictReader(inventory)\n",
        "    data = []\n",
        "\n",
        "    #Creating a list of all the row in the inventory\n",
        "    for row in inventory_dict_r:\n",
        "      data.append(row)\n",
        "\n",
        "    #Creating a list of all the item\n",
        "    item_list = []\n",
        "    for element in data:\n",
        "      item_list.append(element['Item'].lower())\n",
        "\n",
        "    #We ask the user what product was sold and we ensure it is in the inventory\n",
        "    print('What product was sold?')\n",
        "    name = input().lower()\n",
        "\n",
        "    assert name in item_list, f'{name} is not in the inventory'\n",
        "\n",
        "    #We ask the user which quantity of the product was sold and we ensure it is available in the inventory\n",
        "    print(f'What quantity of {name} was sold?')\n",
        "    quantity = is_positive()\n",
        "\n",
        "    index = item_list.index(name)\n",
        "    inventory_quantity = float(data[index]['Quantity'])\n",
        "\n",
        "    assert quantity <= inventory_quantity, f'The max quantity of {name} available is {inventory_quantity}'\n",
        "\n",
        "    #Now we search for the price of the item in the inventory and we print the information\n",
        "    sell_price = float(data[index]['Sell Price'])\n",
        "    gross_profit = quantity*sell_price\n",
        "    buy_price = float(data[index]['Buy Price'])\n",
        "    net_profit = gross_profit - quantity*buy_price\n",
        "\n",
        "    print('SALE REGISTERED')\n",
        "    print(f'{quantity} X {name} : €{sell_price}')\n",
        "    print(f'Total: € {gross_profit}')\n",
        "\n",
        "    #Now we have to update the profit file\n",
        "    with open('profits.csv', mode='a') as profit_file:\n",
        "      field_names = ['Gross Profit', 'Net Profit']\n",
        "      profit_dict = csv.DictWriter(profit_file, fieldnames=field_names)\n",
        "\n",
        "      #Check if the file is empty to write the header\n",
        "      profit_file.seek(0, 2)  #Move to the end of the file\n",
        "      if profit_file.tell() == 0:  #If file is empty\n",
        "        profit_dict.writeheader()\n",
        "\n",
        "      profit_dict.writerow({'Gross Profit':gross_profit, 'Net Profit':net_profit})\n"
      ],
      "metadata": {
        "id": "-w5NRf80Qu0g"
      },
      "execution_count": null,
      "outputs": []
    },
    {
      "cell_type": "code",
      "source": [
        "def profit():\n",
        "\n",
        "  \"\"\"\n",
        "  The function \"profit\" is going to return the gross and net profit for the sales.\n",
        "  The function return the gross profit as the first element and net profit as the second element.\n",
        "  \"\"\"\n",
        "  #Read the CSV file\n",
        "\n",
        "  with open('profits.csv', mode='r') as profit_file:\n",
        "    profit_reader = csv.reader(profit_file)\n",
        "\n",
        "    #Inizialize the list for gross and net profit\n",
        "    gross_profit = []\n",
        "    net_profit = []\n",
        "\n",
        "    #Loop to add element to the lists except the header\n",
        "    for index,row in enumerate(profit_reader):\n",
        "      if index >0:\n",
        "        gross_profit.append(float(row[0]))\n",
        "        net_profit.append(float(row[1]))\n",
        "\n",
        "    gross_profit = round(sum(gross_profit),2)\n",
        "    net_profit = round(sum(net_profit),2)\n",
        "\n",
        "    return (gross_profit, net_profit)\n",
        "\n"
      ],
      "metadata": {
        "id": "QXUK9xr6yHdF"
      },
      "execution_count": null,
      "outputs": []
    },
    {
      "cell_type": "code",
      "execution_count": null,
      "metadata": {
        "id": "I4YgGjVN_APu"
      },
      "outputs": [],
      "source": [
        "print('Welcome to the software of BioMarket s.a.s')\n",
        "print('Digit a command to execute an action. To see all the possible commands try with \"help\" \\n')\n",
        "\n",
        "#Verify if the inventory file is present in the directory, if not create it\n",
        "\n",
        "if os.path.isfile(\"inventory.csv\"):\n",
        "  pass\n",
        "\n",
        "else:\n",
        "  with open(\"inventory.csv\", mode='w', newline='') as inventory:\n",
        "    inventory.write(\"Item,Quantity,Sell Price,Buy Price\\n\")\n",
        "\n",
        "commands_list = ['add','inventory_list','sell','profit','help','close']\n",
        "\n",
        "while True:\n",
        "  command = input('Insert a command: ')\n",
        "\n",
        "  assert command in commands_list, ('Invalid command. \\n'+help())\n",
        "\n",
        "  if command == 'help':\n",
        "    print(help())\n",
        "\n",
        "  elif command =='inventory_list':\n",
        "    inventory_list()\n",
        "\n",
        "  elif command =='add':\n",
        "    add()\n",
        "\n",
        "  elif command =='sell':\n",
        "    sell()\n",
        "\n",
        "  elif command =='profit':\n",
        "    gross_profit, net_profit = profit()\n",
        "    print('Gross Profit:', gross_profit)\n",
        "    print('Net Profit:', net_profit)\n",
        "\n",
        "  elif command =='close':\n",
        "    print('Closing the program')\n",
        "    break"
      ]
    }
  ]
}